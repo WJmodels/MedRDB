{
 "cells": [
  {
   "cell_type": "code",
   "execution_count": 3,
   "metadata": {},
   "outputs": [],
   "source": [
    "symbols = ['C', '[OMe]', 'C', '[C@H]', '[CO2Me]', 'N', 'C', 'Br', 'C', 'C', 'C', 'C', '[ClO2SH]', 'O', 'O']\n",
    "n = len(symbols)\n",
    "for i in range(n):\n",
    "    symbol = symbols[i]\n",
    "    symbol = symbol.replace(\"WOMO\",\"MOMO\").replace(\"TlMSO\",\"TMSO\").replace(\"NHAloc\",\"NHAlloc\").replace(\"Aloc\",\"Alloc\").replace(\"FmodHN\", \"FmocHN\").replace(\"S@@\", \"S@@+\").replace(\"TlPSO\", \"TIPSO\").replace(\"OTlPS\", \"OTIPS\").replace(\"OTiPS\", \"OTIPS\").replace(\"TiPSO\", \"TIPSO\").replace(\"CONH+\", \"CONH2\").replace(\"BocH\", \"BocHN\").replace(\"PMB\", \"PMBO\").replace(\"[ClO2SH]\", \"ClO2SHN\")  #替换\n",
    "    # if symbol[0] == '[':\n",
    "    #     symbol = symbol[1:-1]\n",
    "    # if symbol in RGROUP_SYMBOLS:\n",
    "    #     atom = Chem.Atom(\"*\")\n",
    "    #     if symbol[0] == 'R' and symbol[1:].isdigit():\n",
    "    #         atom.SetIsotope(int(symbol[1:]))\n",
    "    #     Chem.SetAtomAlias(atom, symbol)\n",
    "    # elif symbol in ABBREVIATIONS:\n",
    "    #     atom = Chem.Atom(\"*\")\n",
    "    #     Chem.SetAtomAlias(atom, symbol)\n",
    "    # else:\n",
    "    #     try:  # try to get SMILES of atom\n",
    "    #         atom = Chem.AtomFromSmiles(symbols[i])\n",
    "    #         atom.SetChiralTag(Chem.rdchem.ChiralType.CHI_UNSPECIFIED)\n",
    "    #     except:  # otherwise, abbreviation or condensed formula\n",
    "    #         atom = Chem.Atom(\"*\")\n",
    "    #         Chem.SetAtomAlias(atom, symbol)\n",
    "\n",
    "    # if atom.GetSymbol() == '*':\n",
    "    #     atom.SetProp('molFileAlias', symbol)\n",
    "\n",
    "    # idx = mol.AddAtom(atom)\n",
    "    # assert idx == i\n",
    "    # ids.append(idx)"
   ]
  }
 ],
 "metadata": {
  "kernelspec": {
   "display_name": "img2smiles",
   "language": "python",
   "name": "python3"
  },
  "language_info": {
   "codemirror_mode": {
    "name": "ipython",
    "version": 3
   },
   "file_extension": ".py",
   "mimetype": "text/x-python",
   "name": "python",
   "nbconvert_exporter": "python",
   "pygments_lexer": "ipython3",
   "version": "3.8.18"
  }
 },
 "nbformat": 4,
 "nbformat_minor": 2
}

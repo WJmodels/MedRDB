import pandas as pd

df = pd.read_csv("E:/class_predict/50k_data_output_processed.tsv", sep='\t')
df.head()

import numpy as np
fps_ft_50k_class = np.load("E:/class_predict/50k_class_processed_rxnfp.npz")['fps']

fps_ft_50k_class.shape

help(np.unique)

np.unique(df["split"], return_counts=True)

df["split"]=="train"

X_train = fps_ft_50k_class[df["split"]=="train"]

X_test = fps_ft_50k_class[df['split']=='test']

fps_ft_50k_class.shape

fps_ft_50k_label = df["class"].values #取出“rxn_class”的值（numpy.array）
fps_ft_50k_label.shape

y_train = fps_ft_50k_label[df["split"]=="train"]
y_train.shape

y_test = fps_ft_50k_label[df["split"]=="test"]
y_test.shape

y_test.shape[0], X_test.shape[0], y_test.shape, X_test.shape

y_train.shape[0], X_train.shape[0], y_train.shape, X_train.shape

from lazypredict.Supervised import LazyClassifier
from sklearn.datasets import load_breast_cancer
from sklearn.model_selection import train_test_split

# data = load_breast_cancer()
# X = data.data
# y= data.target

# X_train, X_test, y_train, y_test = train_test_split(X, y,test_size=.5,random_state =123)

clf = LazyClassifier(verbose=0,ignore_warnings=True, custom_metric=None)
models,predictions = clf.fit(X_train, X_test, y_train, y_test)

print(models)

predictions

clf.models["PassiveAggressiveClassifier"].predict(X_test[0].reshape(-1,len(X_test[0])))

X_test

y_test[0]

import gzip
import pandas as pd
import numpy as np
from itertools import islice
from tqdm import tqdm, tqdm_notebook
from rxnfp.transformer_fingerprints import (
    RXNBERTFingerprintGenerator, get_default_model_and_tokenizer, generate_fingerprints
)

model, tokenizer = get_default_model_and_tokenizer('bert_ft_10k_25s')
ft_7k_rxnfp_generator = RXNBERTFingerprintGenerator(model, tokenizer)

# fps_ft_10k = generate_fingerprints(df.rxn.values.tolist(), ft_10k_rxnfp_generator, batch_size=8)
# np.savez_compressed('../data/fps_ft_10k', fps=fps_ft_10k)
# fps_ft_10k.shape

df_full = pd.read_csv("E:/class_predict/data/test/total_data_1010_processed.tsv", sep='\t')
ls=df_full['Reaction'].tolist()


fps_ft_7k_ = generate_fingerprints(df_full['Reaction'].tolist(), ft_7k_rxnfp_generator, batch_size=8)
np.savez_compressed("E:/class_predict/data/test/total_data_1010_processed_rxnfp.npz", fps=fps_ft_7k_)
fps_ft_7k_.shape

fps_ft_7k_.shape

clf.models["PassiveAggressiveClassifier"].predict(fps_ft_7k_[0].reshape(-1,len(fps_ft_7k_[0])))

for i in range(7632):  
    a = clf.models["PassiveAggressiveClassifier"].predict(fps_ft_7k_[i].reshape(-1,len(fps_ft_7k_[i])))
    print(i, a)









